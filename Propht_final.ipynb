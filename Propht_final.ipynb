{
 "cells": [
  {
   "cell_type": "code",
   "execution_count": null,
   "metadata": {},
   "outputs": [],
   "source": [
    "import pandas as pd\n",
    "import numpy as np\n",
    "import yfinance as yf\n",
    "import matplotlib.pyplot as plt\n",
    "import seaborn as sns\n",
    "import plotly.graph_objects as go\n",
    "import plotly.express as px\n",
    "from pandas_datareader import data as pdr\n",
    "from datetime import datetime, timedelta\n",
    "import data_util  \n",
    "yf.pdr_override()\n",
    "from sklearn.svm import SVC\n",
    "\n",
    "sns.set(rc={'figure.figsize':(20, 15)})\n",
    "\n",
    "temp = dict(layout=go.Layout(font=dict(family=\"Franklin Gothic\", size=12), width=800))\n",
    "\n",
    "import warnings\n",
    "warnings.filterwarnings('ignore')\n",
    "\n",
    "from prophet import Prophet\n",
    "from prophet.plot import plot_plotly\n"
   ]
  },
  {
   "cell_type": "code",
   "execution_count": null,
   "metadata": {},
   "outputs": [],
   "source": [
    "from Evaluation_metrics import *\n",
    "def evaluate_metrics(y_true, y_pred):\n",
    "    results = {\n",
    "        'Metric': ['MAPE', 'MAE', 'MSE', 'RMSE', 'R2', 'SMAPE'],\n",
    "        'Value': [MAPE(y_true, y_pred), \n",
    "                  MAE(y_true, y_pred), \n",
    "                  MSE(y_true, y_pred), \n",
    "                  RMSE(y_true, y_pred), \n",
    "                  R2(y_true, y_pred), \n",
    "                  SMAPE(y_true, y_pred)]\n",
    "    }\n",
    "    df = pd.DataFrame(results)\n",
    "    \n",
    "    # Add dotted lines\n",
    "    dotted_style = [dict(selector=\"th\", props=[(\"border-bottom\", \"1px dotted #aaaaaa\")]),\n",
    "                    dict(selector=\"td\", props=[(\"border-bottom\", \"1px dotted #aaaaaa\")])]\n",
    "    \n",
    "    # Apply styling\n",
    "    styled_df = (df.style\n",
    "                 .set_properties(**{'text-align': 'center'})\n",
    "                 .format({'Value': '{:.2f}'})  # Round values to 2 decimal places\n",
    "                 .set_table_styles(dotted_style)\n",
    "                 .set_caption('Evaluation Metrics')\n",
    "                 .set_table_attributes('style=\"border-collapse: collapse; border: none;\"')\n",
    "                 .set_properties(subset=['Metric'], **{'font-weight': 'bold',}))  # Bold and blue headers\n",
    "    \n",
    "    return styled_df"
   ]
  },
  {
   "cell_type": "code",
   "execution_count": null,
   "metadata": {},
   "outputs": [],
   "source": [
    "from prophet import Prophet\n",
    "from prophet.plot import plot_plotly\n",
    "def Prophet(stock):\n",
    "  \n",
    "\n",
    "  # Assuming you have already imported necessary libraries and loaded the data\n",
    "\n",
    "  # Reset index of apple_stocks DataFrame\n",
    "  stock.reset_index(inplace=True)\n",
    "  # apple_stocks.set_index('Date',inplace=True)\n",
    "  stocks_temp = stock[['Date', 'Close']].rename(columns={'Date': 'ds', 'Close': 'y'})\n",
    "  split=len(stocks_temp)-int(len(stocks_temp)*0.70)\n",
    "\n",
    "  stocks_temp_test = stocks_temp.tail(split)\n",
    "  print(split)\n",
    "\n",
    "  stocks_temp_train = stocks_temp.head(len(stocks_temp) - split)\n",
    "\n",
    "  FBprophet = Prophet(daily_seasonality=True)\n",
    "\n",
    "  FBprophet.fit(stocks_temp_train)\n",
    "\n",
    "  future = FBprophet.make_future_dataframe(periods=split)\n",
    "\n",
    "  forecast = FBprophet.predict(future)\n",
    "\n",
    "  fig = plot_plotly(FBprophet, forecast)\n",
    "\n",
    "  fig.add_trace(go.Scatter(x=stocks_temp_test['ds'], y=stocks_temp_test['y'], mode='markers', name='Test Data'))\n",
    "\n",
    "  fig.show()\n",
    "  y_pred=forecast[\"yhat\"].values[int(len(apple_stocks_temp)*0.70):]\n",
    "  y_true=stocks_temp['y'].values[int(len(stocks_temp)*0.70):]\n",
    "  return y_true,y_pred\n",
    "\n"
   ]
  },
  {
   "cell_type": "code",
   "execution_count": null,
   "metadata": {},
   "outputs": [],
   "source": [
    "apple_stocks=data_util.stock_data('AAPL', 10,'Apple')\n",
    "y_true,y_pred=Prophet(apple_stocks)\n",
    "styled_df = evaluate_metrics(y_true, y_pred)\n",
    "styled_df"
   ]
  },
  {
   "cell_type": "code",
   "execution_count": null,
   "metadata": {},
   "outputs": [],
   "source": [
    "s_stocks=data_util.stock_data('SPY', 4,'SPY')\n",
    "y_pred,y_true=Prophet(s_stocks,100)\n",
    "styled_df = evaluate_metrics(y_true, y_pred)\n",
    "styled_df"
   ]
  },
  {
   "cell_type": "code",
   "execution_count": null,
   "metadata": {},
   "outputs": [],
   "source": [
    "n_stocks=data_util.stock_data('^NSEI', 4,'Nifty 50')\n",
    "y_pred,y_true=Prophet(n_stocks,100)\n",
    "styled_df = evaluate_metrics(y_true, y_pred)\n",
    "styled_df"
   ]
  },
  {
   "cell_type": "code",
   "execution_count": null,
   "metadata": {},
   "outputs": [],
   "source": [
    "n_stocks=data_util.stock_data('^NSEI', 4,'Nifty 50')\n",
    "y_pred,y_true=Prophet(n_stocks,100)\n",
    "styled_df = evaluate_metrics(y_true, y_pred)\n",
    "styled_df"
   ]
  }
 ],
 "metadata": {
  "language_info": {
   "name": "python"
  }
 },
 "nbformat": 4,
 "nbformat_minor": 2
}
